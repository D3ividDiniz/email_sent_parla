{
  "nbformat": 4,
  "nbformat_minor": 0,
  "metadata": {
    "colab": {
      "provenance": [],
      "include_colab_link": true
    },
    "kernelspec": {
      "name": "python3",
      "display_name": "Python 3"
    },
    "language_info": {
      "name": "python"
    }
  },
  "cells": [
    {
      "cell_type": "markdown",
      "metadata": {
        "id": "view-in-github",
        "colab_type": "text"
      },
      "source": [
        "<a href=\"https://colab.research.google.com/github/D3ividDiniz/email_sent_parla/blob/main/sent_email_script.ipynb\" target=\"_parent\"><img src=\"https://colab.research.google.com/assets/colab-badge.svg\" alt=\"Open In Colab\"/></a>"
      ]
    },
    {
      "cell_type": "code",
      "source": [
        "# enviar_para = [\n",
        "#     \"deivid.diniz@picpay.com\",\n",
        "#     \"m.amiyakawa.ext@picpay.com\",\n",
        "#     \"marianamoraes@parla.com.br\",\n",
        "#     \"patriciafedizko@parla.com.br\",\n",
        "#     \"joaocrimber@parla.com.br\",\n",
        "#     \"ativo@parla.com.br\", \n",
        "#     \"carlos.furlan@picpay.com\",\n",
        "#     \"laurianne.kato@picpay.com\",\n",
        "#     \"resgatebaseparla@gmail.com\"\n",
        "# ]\n",
        "\n",
        "enviar_para = [\n",
        "    \"deivid.diniz@picpay.com\"\n",
        "]\n",
        "#separando por virgúla e com aspas"
      ],
      "metadata": {
        "id": "yIfSmtpKxR0Y"
      },
      "execution_count": null,
      "outputs": []
    },
    {
      "cell_type": "markdown",
      "source": [
        "## 1. Variáveis do Código 👩‍💻"
      ],
      "metadata": {
        "id": "ulS-98UCxFV2"
      }
    },
    {
      "cell_type": "code",
      "source": [
        "pip install datetime"
      ],
      "metadata": {
        "colab": {
          "base_uri": "https://localhost:8080/"
        },
        "id": "lo2dO0d9x90o",
        "outputId": "bfefc294-1de7-402b-a7f6-de3a882c135b"
      },
      "execution_count": null,
      "outputs": [
        {
          "output_type": "stream",
          "name": "stdout",
          "text": [
            "Looking in indexes: https://pypi.org/simple, https://us-python.pkg.dev/colab-wheels/public/simple/\n",
            "Requirement already satisfied: datetime in /usr/local/lib/python3.10/dist-packages (5.1)\n",
            "Requirement already satisfied: zope.interface in /usr/local/lib/python3.10/dist-packages (from datetime) (6.0)\n",
            "Requirement already satisfied: pytz in /usr/local/lib/python3.10/dist-packages (from datetime) (2022.7.1)\n",
            "Requirement already satisfied: setuptools in /usr/local/lib/python3.10/dist-packages (from zope.interface->datetime) (67.7.2)\n"
          ]
        }
      ]
    },
    {
      "cell_type": "code",
      "source": [
        "from datetime import date\n",
        "from datetime import timedelta\n",
        "from datetime import datetime\n",
        "import time\n",
        "\n",
        "date_now = \".\".join(str(date.today()).replace(\"-\",\".\").split(\".\")[::-1]).replace(\".\",\"/\")\n",
        "\n",
        "start_month = str('01') + str(date_now[2:5])\n",
        "\n",
        "last_month = \"/\".join(str(date.today() - timedelta(days=1))[5:].split(\"-\")[::-1])\n",
        "\n",
        "# Transacional Diário do GV - Envio date_now | Ref start_month a last_month\n",
        "\n",
        "title = f\"Envio do transacional - {date_now}\"\n",
        "\n",
        "subject = f\"Transacional Diário do GV - Envio {date_now} | Ref {start_month} a {last_month}\""
      ],
      "metadata": {
        "id": "79tXvZSNg0-7"
      },
      "execution_count": null,
      "outputs": []
    },
    {
      "cell_type": "markdown",
      "source": [
        "\n",
        "## 2. HTML - Corpo do Email 📬\n",
        "\n",
        "\n"
      ],
      "metadata": {
        "id": "vSRJ5_1JwaEb"
      }
    },
    {
      "cell_type": "code",
      "source": [
        "body = f\"\"\"<!DOCTYPE html>\n",
        "      <html lang=\"pt-BR\">\n",
        "      <head>\n",
        "        <title>PicPay</title>\n",
        "        <meta http-equiv=\"Content-Type\" content=\"text/html; charset=utf-8\" />\n",
        "        <meta name=\"viewport\" content=\"width=device-width, initial-scale=1\">\n",
        "        <meta http-equiv=\"X-UA-Compatible\" content=\"IE=edge\" />\n",
        "        <meta name=\"robots\" content=\"noindex, nofollow\" />\n",
        "        <link rel=\"preconnect\" href=\"https://fonts.googleapis.com\">\n",
        "        <link rel=\"preconnect\" href=\"https://fonts.gstatic.com\" crossorigin>\n",
        "        <link href=\"https://fonts.googleapis.com/css2?family=Montserrat:wght@400;500;600;700;900&display=swap\"\n",
        "          rel=\"stylesheet\">\n",
        "        <!--[if (gte mso 9)|(IE)]><!-->\n",
        "        <link href=\"https://fonts.googleapis.com/css2?family=Montserrat:wght@400;500;600;700;900&display=swap\"\n",
        "          rel=\"stylesheet\">\n",
        "        <!--<![endif]-->\n",
        "      </head>\n",
        "      <body>\n",
        "\n",
        "\n",
        "        <div style=\"background-color: #EFF0E8; margin: 0 !important; padding: 0 !important;\">\n",
        "          \n",
        "          <table role=\"presentation\" cellpadding=\"0\" cellspacing=\"0\" width=\"100%\" border=\"0\" align=\"center\" style=\"max-width: 560px; background-color: white;\">\n",
        "            <span style='margin-top: 20px'>\n",
        "            <center> <h2 style=\"color: #2AA44F; width:100%; margin-top:50px; margin-bottom: 45px\">{title}</h2> </center>\n",
        "\n",
        "            <span style='margin-top: 20px'>\n",
        "            <div>\n",
        "\n",
        "            <center> <h4 style=\"color: #1e1e1e\">ENVIO DE BASE PRODUÇÃO:</h4> <p style=\"color:#21C25E\">ativo@parla.com.br</p> </center>\n",
        "\n",
        "            <center> <h4 style=\"color: #1e1e1e\">NOME DO ARQUIVO:</h4> <p style=\"color:#21C25E\">Bd_Transacional {start_month} a {last_month}.csv</p> </center>\n",
        "\n",
        "            <center> <h4 style=\"color: #1e1e1e\">NOME DO PROJETO:</h4> <p style=\"color:#21C25E\">Gerente Virtual</p> </center>\n",
        "\n",
        "            <center> <h4 style=\"color: #1e1e1e\">DATA:</h4> <p style=\"color:#21C25E\">`{date_now}</p> </center>\n",
        "\n",
        "            <center> <h4 style=\"color: #1e1e1e\">DRIVE CAMINHO:</h4> <p style=\"color:#21C25E\">https://drive.google.com/drive/folders/1c-RIXpANQh-JXN9fYJNTEDGbv8SuX4gI</p> </center>\n",
        "\n",
        "            <div>\n",
        "\n",
        "            </span>\n",
        "                    <tr>\n",
        "              <td align=\"center\">\n",
        "                <p style=\"width: 90%;\n",
        "                    max-width: 306px;\n",
        "                    display: block;\n",
        "                    margin: 40px auto 0;\n",
        "                    line-height: 1.3; \n",
        "                    color: #223324; \n",
        "                    font-family:'Montserrat', sans-serif; \n",
        "                    font-size: 15px; \n",
        "                    font-weight: 700;\"> \n",
        "                  Desenvolvido por: \n",
        "                </p>\n",
        "              </td>\n",
        "            </tr>\n",
        "\n",
        "            <tr>\n",
        "              <td align=\"center\">\n",
        "                <p style=\"width: 90%;\n",
        "                    max-width: 306px;\n",
        "                    display: block;\n",
        "                    margin: 5px auto 40px;\n",
        "                    line-height: 1.3; \n",
        "                    color: #223324; \n",
        "                    font-family:'Montserrat', sans-serif; \n",
        "                    font-size: 15px; \n",
        "                    font-weight: 400;\"> \n",
        "                    Anna Carolina Garrido, Deivid Diniz, Mirella Miyakawa, Maria Almeida e Enzo Abreu\n",
        "                </p>\n",
        "              </td>\n",
        "            </tr>\n",
        "\n",
        "            <tr>\n",
        "              <td align=\"center\">\n",
        "                <p style=\"width: 90%;\n",
        "                    max-width: 300px;\n",
        "                    display: block;\n",
        "                    margin: 0 auto 50px;\n",
        "                    line-height: 1.3; \n",
        "                    color: #11C76F; \n",
        "                    font-family:'Montserrat', sans-serif; \n",
        "                    font-size: 18px; \n",
        "                    font-weight: 700;\">\n",
        "                  Projeto UP - PJ | PicPay 2023\n",
        "                </p>\n",
        "              </td>\n",
        "            </tr>\n",
        "          </table>\n",
        "        </div>\n",
        "      </body>\n",
        "      </html>\n",
        "          \"\"\""
      ],
      "metadata": {
        "id": "BuXov6VVn0Zv"
      },
      "execution_count": null,
      "outputs": []
    },
    {
      "cell_type": "markdown",
      "source": [
        "## 3. Script de Envio - SMTP 📩"
      ],
      "metadata": {
        "id": "0heOj3zzwyQp"
      }
    },
    {
      "cell_type": "code",
      "source": [
        "from email.mime.multipart import MIMEMultipart\n",
        "from email.mime.text import MIMEText\n",
        "import smtplib\n",
        "\n",
        "import email.message\n",
        "\n",
        "# create message object instance \n",
        "msg = email.message.Message()\n",
        "message = f\"\"\"\n",
        "ENVIO DE BASE PRODUÇÃO: ativo@parla.com.br\n",
        "\n",
        "NOME DO ARQUIVO:  Bd Transacional {start_month} a {last_month}.csv\n",
        "\n",
        "NOME DO PROJETO: Gerente Virtual\n",
        "\n",
        "DATA: {date_now}\n",
        "\n",
        "DRIVE CAMINHO: https://drive.google.com/drive/folders/1c-RIXpANQh-JXN9fYJNTEDGbv8SuX4gI\n",
        "\"\"\"\n",
        "# setup the parameters of the message \n",
        "password = \"qidiobytqspnjigp\"\n",
        "msg['From'] = \"up.project.pj@gmail.com\"\n",
        "msg['To'] = \",\".join(enviar_para)\n",
        "msg['Subject'] = subject\n",
        "msg.add_header('Content-Type', 'text/html')\n",
        "msg.set_payload(body)\n",
        "# add in the message body \n",
        "\n",
        "\n",
        "#create server \n",
        "server = smtplib.SMTP('smtp.gmail.com: 587')\n",
        "server.starttls()\n",
        "# Login Credentials for sending the mail \n",
        "server.login(msg['From'], password)\n",
        "# send the message via the server. \n",
        "\n",
        "server.sendmail(msg['From'], [msg['To']], msg.as_string().encode('utf-8'))\n",
        "server.quit()\n",
        "\n",
        "print (\"successfully sent email to %s:\" % (msg['To']))"
      ],
      "metadata": {
        "id": "runj99_IlS5c",
        "colab": {
          "base_uri": "https://localhost:8080/"
        },
        "outputId": "7ad2ee45-bc00-4fc5-8b38-9cc26db7262b"
      },
      "execution_count": null,
      "outputs": [
        {
          "output_type": "stream",
          "name": "stdout",
          "text": [
            "successfully sent email to deivid.diniz@picpay.com,m.amiyakawa.ext@picpay.com,marianamoraes@parla.com.br,patriciafedizko@parla.com.br,joaocrimber@parla.com.br,ativo@parla.com.br,carlos.furlan@picpay.com,laurianne.kato@picpay.com,resgatebaseparla@gmail.com:\n"
          ]
        }
      ]
    },
    {
      "cell_type": "code",
      "source": [],
      "metadata": {
        "id": "RrZjMbNFyoCT"
      },
      "execution_count": null,
      "outputs": []
    }
  ]
}